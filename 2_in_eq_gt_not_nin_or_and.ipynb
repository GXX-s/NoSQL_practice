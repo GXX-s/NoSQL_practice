{
 "cells": [
  {
   "cell_type": "code",
   "execution_count": 2,
   "metadata": {
    "ExecuteTime": {
     "end_time": "2021-02-11T04:31:49.646907Z",
     "start_time": "2021-02-11T04:31:49.467356Z"
    },
    "id": "NgIbWbWy8KYv"
   },
   "outputs": [],
   "source": [
    "from pymongo import MongoClient\n",
    "import pymongo\n",
    "from bson.objectid import ObjectId\n",
    "db_url = XXX\n",
    "client = MongoClient(db_url)\n",
    "\n",
    "# See all databases: list(client.list_databases())\n",
    "airbnb=client['sample_airbnb']['listingsAndReviews']\n",
    "geospatial=client['sample_geospatial']['shipwrecks']\n",
    "netflix=client['sample_mflix']\n",
    "movies=client['sample_mflix']['movies']\n",
    "supplies=client['sample_supplies']['sales']\n",
    "training=client['sample_training']\n",
    "companies=client['sample_training']['companies']\n",
    "weather=client['sample_weatherdata']['data']\n",
    "grades = training['grades'] \n",
    "\n",
    "\n",
    "# OTHER NOTES --- \n",
    "# list dbs\n",
    "# list_databases()\n",
    "\n",
    "# list collections\n",
    "# list_collection_names()\n",
    "\n",
    "# SORT --> SKIP --> LIMIT\n",
    "# collection.distinct('address.country')\n",
    "# Query construction\n",
    "# collection.find() \n",
    "# collection.count_documents()\n"
   ]
  },
  {
   "cell_type": "markdown",
   "metadata": {
    "id": "eRejLxDj8KYw"
   },
   "source": [
    "### All Query Operators discussed below can be found here:\n",
    "https://docs.mongodb.com/manual/reference/operator/query/"
   ]
  },
  {
   "cell_type": "markdown",
   "metadata": {
    "id": "c-NRukks8KYx"
   },
   "source": [
    "## Problem 1\n",
    "\n",
    "Find a document in the movies collection where all the following are true:\n",
    "\n",
    "~~~\n",
    "1) \"genres\" is not in the following: \"Drama\",\"Fantasy\". Use the NOT operator.\n",
    "2) \"countries\" is in \"USA\",\"Spain\" OR \"languages\" is \"English\"\n",
    "3) \"imdb.rating\" is greater than 7 OR \"tomatoes.viewer.rating\" is greater than 4\n",
    "4) Limit to 1 result\n",
    "5) Sort by year descending and title descending\n",
    "6) Return the following fields: \"_id,\"genres\", \"countries\", \"languages\",\"imdb\", \"tommatoes\", \"title\"\n",
    "~~~"
   ]
  },
  {
   "cell_type": "code",
   "execution_count": 3,
   "metadata": {
    "ExecuteTime": {
     "end_time": "2021-02-11T04:31:53.934010Z",
     "start_time": "2021-02-11T04:31:51.876485Z"
    }
   },
   "outputs": [
    {
     "data": {
      "text/plain": [
       "[{'_id': ObjectId('573a13eaf29313caabdcfbc1'),\n",
       "  'genres': ['Documentary'],\n",
       "  'countries': ['USA'],\n",
       "  'title': 'The Roosevelts: An Intimate History',\n",
       "  'languages': ['English'],\n",
       "  'imdb': {'rating': 8.8, 'votes': 682, 'id': 3400010}}]"
      ]
     },
     "execution_count": 3,
     "metadata": {},
     "output_type": "execute_result"
    }
   ],
   "source": [
    "list(movies\n",
    "     .find(\n",
    "            {'genres':{'$not':{'$in':[\"Drama\",\"Fantasy\"]}},\n",
    "            '$or':[\n",
    "                   {'countries':{'$in':[\"USA\",\"Spain\"]}},\n",
    "                   {'languages':{'$eq':'English'}}\n",
    "                    ],\n",
    "             '$or':[\n",
    "                   {'imdb.rating':{'$gt':7}},\n",
    "                   {'tomatoes.viewer.rating':{'$gt':4}}\n",
    "                 ]\n",
    "           },\n",
    "          {'_id':1,\"genres\":1, \"countries\":1, \"languages\":1,\"imdb\":1, \"title\":1})\n",
    "     .limit(1)\n",
    "     .sort([('year',-1),('title',-1)]))"
   ]
  },
  {
   "cell_type": "markdown",
   "metadata": {
    "id": "JnfLOmfWDecX"
   },
   "source": [
    "**expected output**\n",
    "\n",
    "\n",
    "\n",
    "```\n",
    "[{'_id': ObjectId(),\n",
    "  'countries': ['country1','country2'...],\n",
    "  'genres': ['genre1','genre2'...],\n",
    "  'imdb': {'id': ..., 'rating': ..., 'votes': ...},\n",
    "  'languages': ['lang1','lang2'...],\n",
    "  'title': 'some title'}]\n",
    "```\n",
    "\n"
   ]
  },
  {
   "cell_type": "markdown",
   "metadata": {
    "id": "tz0u3VUu8KYy"
   },
   "source": [
    "## Problem 2 - double negative & \"is_past\" must exist\n",
    "\n",
    "Find a document in the companies collection where:\n",
    "\n",
    "~~~\n",
    "1) \"founded_year\" is in the following: 2006, 2008, 20012\n",
    "2) Where not any \"is_past\" field in the array of embedded objects \"relationships\" field is equal to False. Also the \"relationships.is_past\" field must exist.\n",
    "3) Return only the relevant fields in the query criteria - \"relationships\", \"founded_year\" and \"_id\".\n",
    "4) Limit to 1 result\n",
    "5) Sort on \"founded_year\" in ascending order\n",
    "~~~"
   ]
  },
  {
   "cell_type": "code",
   "execution_count": 4,
   "metadata": {
    "ExecuteTime": {
     "end_time": "2021-02-11T04:31:54.814296Z",
     "start_time": "2021-02-11T04:31:54.350922Z"
    }
   },
   "outputs": [
    {
     "data": {
      "text/plain": [
       "[{'_id': ObjectId('52cdef7c4bab8bd675297dae'),\n",
       "  'founded_year': 2006,\n",
       "  'relationships': [{'is_past': True,\n",
       "    'title': 'Founder and CEO',\n",
       "    'person': {'first_name': 'Ian',\n",
       "     'last_name': 'Clarke',\n",
       "     'permalink': 'ian-clarke'}},\n",
       "   {'is_past': True,\n",
       "    'title': 'Board',\n",
       "    'person': {'first_name': 'Ian',\n",
       "     'last_name': 'Clarke',\n",
       "     'permalink': 'ian-clarke'}}]}]"
      ]
     },
     "execution_count": 4,
     "metadata": {},
     "output_type": "execute_result"
    }
   ],
   "source": [
    "list(companies.find({\n",
    "    'founded_year':{'$in': [2006,2008,2012]},\n",
    "    'relationships.is_past': {'$not':{'$eq':False},'$exists':True}},\n",
    "    {\"relationships\":1, \"founded_year\":1,\"_id\":1})\n",
    "     .limit(1)\n",
    "     .sort('founded_year')\n",
    "    \n",
    ")"
   ]
  },
  {
   "cell_type": "markdown",
   "metadata": {
    "id": "4D28Tlu2EF6Q"
   },
   "source": [
    "**expected output**\n",
    "\n",
    "\n",
    "\n",
    "```\n",
    "[{'_id': ObjectId(''),\n",
    "  'founded_year': 1999,\n",
    "  'relationships': [{'is_past': True,\n",
    "    'person': {'first_name': 'Tony',\n",
    "     'last_name': 'Stark',\n",
    "     'permalink': 'tony-stark'},\n",
    "    'title': 'title1'},\n",
    "   {'is_past': True,\n",
    "    'person': {'first_name': 'first2',\n",
    "     'last_name': 'last2',\n",
    "     'permalink': 'first-last'},\n",
    "    'title': 'title'}]}]\n",
    "```\n",
    "\n"
   ]
  },
  {
   "cell_type": "markdown",
   "metadata": {
    "id": "FwEE169k8KY0"
   },
   "source": [
    "## Problem 3\n",
    "\n",
    "Find documents in the airbnb where:\n",
    "~~~\n",
    "1) the “number_of_reviews” is greater than 100\n",
    "2) \"beds\" is greater than 5 OR \"review_scores.review_scores_rating\" is greater than 97\n",
    "3) \"host.host_is_superhost\" is set to True OR \"property_type\" is a Villa\n",
    "4) Limit to 1 result\n",
    "5) Sort on \"beds\" in descending order\n",
    "~~~"
   ]
  },
  {
   "cell_type": "code",
   "execution_count": 8,
   "metadata": {
    "ExecuteTime": {
     "end_time": "2021-02-11T04:38:58.885262Z",
     "start_time": "2021-02-11T04:38:58.517627Z"
    }
   },
   "outputs": [
    {
     "data": {
      "text/plain": [
       "[{'_id': '1095174',\n",
       "  'name': 'Makai Hideaway',\n",
       "  'property_type': 'House',\n",
       "  'beds': 8,\n",
       "  'number_of_reviews': 119,\n",
       "  'host': {'host_is_superhost': True},\n",
       "  'review_scores': {'review_scores_rating': 97}}]"
      ]
     },
     "execution_count": 8,
     "metadata": {},
     "output_type": "execute_result"
    }
   ],
   "source": [
    "list(airbnb.find(\n",
    "    {'number_of_reviews':{'$gt':100},\n",
    "    '$or':[{'beds':{'$gt':5} },{'review_scores.review_scores_rating':{'$gt':97}}           ],\n",
    "    '$or':[{'host.host_is_superhost':True},{'property_type':'Villa'}]\n",
    "    },\n",
    "{'_id':1,'beds':1,'host.host_is_superhost':1,'name':1,'number_of_reviews':1,'property_type':1,'review_scores.review_scores_rating':1})\n",
    "    .limit(1)\n",
    "    .sort('beds',-1))"
   ]
  },
  {
   "cell_type": "markdown",
   "metadata": {
    "id": "gPNwnPRrGHdq"
   },
   "source": [
    "**expected output**\n",
    "\n",
    "\n",
    "```\n",
    "[{'_id': 'id1',\n",
    "  'beds': #,\n",
    "  'host': {'host_is_superhost': True},\n",
    "  'name': 'name1',\n",
    "  'number_of_reviews': #,\n",
    "  'property_type': 'value',\n",
    "  'review_scores': {'review_scores_rating': #}}]\n",
    "```\n",
    "\n"
   ]
  },
  {
   "cell_type": "markdown",
   "metadata": {
    "id": "dmQFk5Lt8KY1"
   },
   "source": [
    "## Problem 4\n",
    "\n",
    "Find documents in the training.grades collection where:\n",
    "~~~\n",
    "1) \"scores.score\" array of embedded documents has no value greater than 80\n",
    "2) Sort by \"class_id\" descending, student_id ascending\n",
    "~~~"
   ]
  },
  {
   "cell_type": "code",
   "execution_count": 19,
   "metadata": {
    "ExecuteTime": {
     "end_time": "2021-02-11T06:41:51.725441Z",
     "start_time": "2021-02-11T06:41:50.883260Z"
    }
   },
   "outputs": [
    {
     "data": {
      "text/plain": [
       "[{'_id': ObjectId('56d5f7eb604eb380b0d8d9e6'),\n",
       "  'student_id': 28.0,\n",
       "  'scores': [{'type': 'exam', 'score': 0.2898348199689482},\n",
       "   {'type': 'quiz', 'score': 13.88300815704696},\n",
       "   {'type': 'homework', 'score': 61.998362329748836},\n",
       "   {'type': 'homework', 'score': 35.69524705901108}],\n",
       "  'class_id': 500.0}]"
      ]
     },
     "execution_count": 19,
     "metadata": {},
     "output_type": "execute_result"
    }
   ],
   "source": [
    "list(training.grades.find({\n",
    "                                'scores.score':{'$not':{'$gt':80}},\n",
    "                            },\n",
    "                            {'class_id':1,'scores.score':1,'scores.type':1 ,'student_id':1,'_id':1})\n",
    "    .sort([('class_id',-1),\n",
    "           ('student_id',1)])\n",
    "    .limit(1))"
   ]
  },
  {
   "cell_type": "markdown",
   "metadata": {
    "id": "7VV7F73nHfLV"
   },
   "source": [
    "**expected output**\n",
    "\n",
    "\n",
    "```\n",
    "[{'_id': ObjectId(''),\n",
    "  'class_id': #,\n",
    "  'scores': [{'79': score1, 'type': 'type1'},\n",
    "   {'score': 50, 'type': 'type2'},\n",
    "   {'score': 60, 'type': 'type3'},\n",
    "   {'score': 20, 'type': 'type4'}],\n",
    "  'student_id': #}]\n",
    "```\n",
    "\n"
   ]
  },
  {
   "cell_type": "markdown",
   "metadata": {
    "id": "QJD3JGA68KY1"
   },
   "source": [
    "## Problem 5\n",
    "\n",
    "Return the count of all the documents where:\n",
    "~~~\n",
    "1) \"genres\" not in the following: \"Drama\",\"Fantasy\"\n",
    "~~~\n",
    "\n",
    "Write 2 different queries to return this count. "
   ]
  },
  {
   "cell_type": "code",
   "execution_count": 22,
   "metadata": {
    "ExecuteTime": {
     "end_time": "2021-02-11T06:44:32.643699Z",
     "start_time": "2021-02-11T06:44:32.361748Z"
    }
   },
   "outputs": [],
   "source": [
    "output1 = movies.count_documents({\n",
    "    'genres':{'$not':{'$in':[\"Drama\",\"Fantasy\"]}}\n",
    "        })"
   ]
  },
  {
   "cell_type": "code",
   "execution_count": 25,
   "metadata": {
    "ExecuteTime": {
     "end_time": "2021-02-11T06:45:08.260832Z",
     "start_time": "2021-02-11T06:45:07.962100Z"
    }
   },
   "outputs": [
    {
     "name": "stdout",
     "output_type": "stream",
     "text": [
      "output1 = 8993\n",
      "output2 = 8993\n"
     ]
    }
   ],
   "source": [
    "output2 = movies.count_documents({\n",
    "    'genres':{'$nin':[\"Drama\",\"Fantasy\"]}}\n",
    "        )\n",
    "print(f'output1 = {output1}\\noutput2 = {output2}')"
   ]
  },
  {
   "cell_type": "markdown",
   "metadata": {
    "id": "L0jR4k7wH5WM"
   },
   "source": [
    "**expected output**\n",
    "\n",
    "\n",
    "```\n",
    "output1 = value\n",
    "output2 = value\n",
    "\n",
    "```\n",
    "\n"
   ]
  },
  {
   "cell_type": "markdown",
   "metadata": {
    "id": "9mz7jOHj8KY2"
   },
   "source": [
    "## Problem 6\n",
    "\n",
    "Return the documents from the airbnb collection where:\n",
    "~~~\n",
    "1) \"amenities\" field has values in: \"TV\", \"Wifi\"\n",
    "2) \"reviews\" exists and is not equal to []\n",
    "3) \"property_type\" is in one of the following values: \"Hostel\",\"Hotel\" OR \"room_type\" is in one of the following values \"Entire home/apt\",\"Private room\"\n",
    "4) The field in the array of embedded objects \"reviews.reviewer_name\" is not equal to \"Theo\" OR the \"reviews.reviewer_name\" field is not equal to \"Marie\" \n",
    "5) Only return the following \"_id\", \"amenities\", \"reviews.reviewer_name\",\"room_type\",\"property_type\", \"name\", \"accommodates\"\n",
    "6) Sort by name descending, accommodates descending\n",
    "7) Limit to 1 result\n",
    "~~~"
   ]
  },
  {
   "cell_type": "code",
   "execution_count": 29,
   "metadata": {
    "ExecuteTime": {
     "end_time": "2021-02-11T07:04:54.681803Z",
     "start_time": "2021-02-11T07:04:54.357691Z"
    }
   },
   "outputs": [
    {
     "data": {
      "text/plain": [
       "[{'_id': '32369195',\n",
       "  'name': '默默|sushe素舍  万象城/罗湖口岸/三地铁口/粤港美食/商旅首选一室一厅公寓',\n",
       "  'property_type': 'Apartment',\n",
       "  'room_type': 'Entire home/apt',\n",
       "  'accommodates': 2,\n",
       "  'amenities': ['TV',\n",
       "   'Wifi',\n",
       "   'Air conditioning',\n",
       "   'Kitchen',\n",
       "   'Pets allowed',\n",
       "   'Elevator',\n",
       "   'Washer',\n",
       "   'Dryer',\n",
       "   'Smoke detector',\n",
       "   'Carbon monoxide detector',\n",
       "   'First aid kit',\n",
       "   'Fire extinguisher',\n",
       "   'Essentials',\n",
       "   'Shampoo',\n",
       "   'Lock on bedroom door',\n",
       "   'Hangers',\n",
       "   'Hair dryer',\n",
       "   'Iron',\n",
       "   'Laptop friendly workspace',\n",
       "   'Self check-in',\n",
       "   'Smart lock'],\n",
       "  'reviews': [{'reviewer_name': 'Chun Ki'}]}]"
      ]
     },
     "execution_count": 29,
     "metadata": {},
     "output_type": "execute_result"
    }
   ],
   "source": [
    "list(airbnb.find({\n",
    "                'amenities':{'$in':[\"TV\", \"Wifi\"]},\n",
    "                'reviews':{'$exists':True, '$not':{'$eq':[]}},\n",
    "                '$or':[\n",
    "                    {'$or':[\n",
    "                        {'property_type':\"Hostel\"},\n",
    "                        {'property_type':'Hotel'}\n",
    "                            ]},\n",
    "                    {'$or':[\n",
    "                            {'room_type':\"Entire home/apt\"},\n",
    "                            {'room_type':'Private room'}\n",
    "                            ]} \n",
    "                      ],\n",
    "                '$or':[\n",
    "                    {'reviews.reviewer_name':{'$not':{'$eq':'Theo'}}},\n",
    "                    {'reviews.reviewer_name':{'$not':{'$eq':'Marie'}}}\n",
    "                      ]},\n",
    "                  {\"_id\":1, \"amenities\":1, \"reviews.reviewer_name\":1,\"room_type\":1,\"property_type\":1, \"name\":1, \"accommodates\":1}\n",
    "                \n",
    "                    )\n",
    "            .sort([('name',-1),('accommodates',-1)])\n",
    "            .limit(1))"
   ]
  },
  {
   "cell_type": "markdown",
   "metadata": {
    "id": "ei-_BUNmIdt_"
   },
   "source": [
    "**expected output**\n",
    "\n",
    "```\n",
    "[{'_id': '',\n",
    "  'accommodates': #,\n",
    "  'amenities': ['TV','value2','value3'],\n",
    "  'name': 'name1',\n",
    "  'property_type': 'property1',\n",
    "  'reviews': [{'reviewer_name': 'name1'}],\n",
    "  'room_type': 'room_value'}]\n",
    "```\n",
    "\n"
   ]
  },
  {
   "cell_type": "markdown",
   "metadata": {
    "id": "kOkNER298KY3"
   },
   "source": [
    "## Problem 7\n",
    "\n",
    "In the movies collection:\n",
    "\n",
    "~~~\n",
    "1) \"genres\" not equal to Documentary\n",
    "2) \"imdb.rating\" greater than 8\n",
    "3) \"tomatoes.viewer.rating\" greater than 4\n",
    "4) \"rated\" in one of the following values:\"APPROVED\",\"PG-13\",\"PG\" OR the \"year\" is in one of the following values:2000, 2008, 2010, 2012 OR \"runtime\" greater than 100\n",
    "5) Only return \"_id\",\"genres\", \"imdb.rating\", \"tomatoes.viewer.rating\", \"rated\",\"year\",\"runtime\"\n",
    "6) Limit to 1 result\n",
    "7) Sort by \"runtime\" ascending and \"year\" descending\n",
    "~~~"
   ]
  },
  {
   "cell_type": "code",
   "execution_count": 31,
   "metadata": {
    "ExecuteTime": {
     "end_time": "2021-02-11T07:16:10.268600Z",
     "start_time": "2021-02-11T07:16:09.881811Z"
    }
   },
   "outputs": [
    {
     "data": {
      "text/plain": [
       "[{'_id': ObjectId('573a13a3f29313caabd0f030'),\n",
       "  'genres': ['Animation', 'Short', 'Comedy'],\n",
       "  'runtime': 3,\n",
       "  'rated': 'G',\n",
       "  'year': 2000,\n",
       "  'imdb': {'rating': 8.2},\n",
       "  'tomatoes': {'viewer': {'rating': 4.1}}}]"
      ]
     },
     "execution_count": 31,
     "metadata": {},
     "output_type": "execute_result"
    }
   ],
   "source": [
    "list(movies.find({\n",
    "                'genres':{'$ne':'Documentary'},\n",
    "                'imdb.rating':{'$gt':8},\n",
    "                'tomatoes.viewer.rating':{'$gt':4},\n",
    "                '$or':[ \n",
    "                        {'rated':{'$in':[\"APPROVED\",\"PG-13\",\"PG\"]}},\n",
    "                        {'year':{'$in':[2000, 2008, 2010, 2012]}},\n",
    "                        {'runtime':{'$gt':100}}\n",
    "                      ]\n",
    "    \n",
    "                },\n",
    "                {\"_id\":1,\"genres\":1, \"imdb.rating\":1, \"tomatoes.viewer.rating\":1, \"rated\":1,\"year\":1,\"runtime\":1}\n",
    "\n",
    "                )\n",
    "            .limit(1)\n",
    "            .sort([('runtime',1),('year',-1)])\n",
    "    )"
   ]
  },
  {
   "cell_type": "markdown",
   "metadata": {
    "id": "LQPa3BR3JMOy"
   },
   "source": [
    "**expected output**\n",
    "\n",
    "```\n",
    "[{'_id': ObjectId(''),\n",
    "  'genres': ['genre1', 'genre2',..],\n",
    "  'imdb': {'rating': 9.4},\n",
    "  'rated': 'rated1',\n",
    "  'runtime': runtime1,\n",
    "  'tomatoes': {'viewer': {'rating': 5.3}},\n",
    "  'year': year1}]\n",
    "```\n",
    "\n"
   ]
  },
  {
   "cell_type": "markdown",
   "metadata": {
    "id": "9zWFTWD98KY5"
   },
   "source": [
    "## Problem 8\n",
    "\n",
    "Return the document from the companies collection where the following are true:\n",
    "~~~\n",
    "1) \"number_of_employees\" is greater than 10\n",
    "2) One object in the \"funding_rounds\" array has a \"funded_day\" field value of 1, \n",
    "a \"funded_month\" between 9 and 12, \n",
    "and a \"raised_amount\" of greater than or equal to 1000000 -- should use elematch\n",
    "3) One object in the \"investments\" array which is embedded in the \"funding_rounds\" array has a \"financial_org.name\" field value of \"Sequoia Capital\" \n",
    "and \"financial_org.permalink\" field value of \"sequoia-capital\"\n",
    "4) Return the \"number_of_employees\", \"name\", and \"funding_rounds\"\n",
    "5) Limit to 1 result\n",
    "6) Sort by name ascending and number_of_employees descending\n",
    "~~~"
   ]
  },
  {
   "cell_type": "code",
   "execution_count": 38,
   "metadata": {
    "ExecuteTime": {
     "end_time": "2021-02-11T08:23:26.828219Z",
     "start_time": "2021-02-11T08:23:26.474188Z"
    }
   },
   "outputs": [
    {
     "data": {
      "text/plain": [
       "[{'name': 'Aster Data Systems',\n",
       "  'number_of_employees': 50,\n",
       "  'funding_rounds': [{'id': 2324,\n",
       "    'round_code': 'angel',\n",
       "    'source_url': '',\n",
       "    'source_description': '',\n",
       "    'raised_amount': 1000000,\n",
       "    'raised_currency_code': 'USD',\n",
       "    'funded_year': 2005,\n",
       "    'funded_month': 11,\n",
       "    'funded_day': 1,\n",
       "    'investments': [{'company': None,\n",
       "      'financial_org': None,\n",
       "      'person': {'first_name': 'David',\n",
       "       'last_name': 'Cheriton',\n",
       "       'permalink': 'david-cheriton'}},\n",
       "     {'company': None,\n",
       "      'financial_org': None,\n",
       "      'person': {'first_name': 'Anand',\n",
       "       'last_name': 'Rajaraman',\n",
       "       'permalink': 'anand-rajaraman'}},\n",
       "     {'company': None,\n",
       "      'financial_org': None,\n",
       "      'person': {'first_name': 'Ron',\n",
       "       'last_name': 'Conway',\n",
       "       'permalink': 'ron-conway'}},\n",
       "     {'company': None,\n",
       "      'financial_org': {'name': 'First Round Capital',\n",
       "       'permalink': 'first-round-capital'},\n",
       "      'person': None},\n",
       "     {'company': None,\n",
       "      'financial_org': {'name': 'SV Angel', 'permalink': 'sv-angel'},\n",
       "      'person': None}]},\n",
       "   {'id': 2325,\n",
       "    'round_code': 'a',\n",
       "    'source_url': '',\n",
       "    'source_description': '',\n",
       "    'raised_amount': 5000000,\n",
       "    'raised_currency_code': 'USD',\n",
       "    'funded_year': 2007,\n",
       "    'funded_month': 5,\n",
       "    'funded_day': 1,\n",
       "    'investments': [{'company': None,\n",
       "      'financial_org': {'name': 'Sequoia Capital',\n",
       "       'permalink': 'sequoia-capital'},\n",
       "      'person': None},\n",
       "     {'company': None,\n",
       "      'financial_org': {'name': 'Cambrian Ventures',\n",
       "       'permalink': 'cambrian-ventures'},\n",
       "      'person': None},\n",
       "     {'company': None,\n",
       "      'financial_org': {'name': 'First Round Capital',\n",
       "       'permalink': 'first-round-capital'},\n",
       "      'person': None}]},\n",
       "   {'id': 4568,\n",
       "    'round_code': 'b',\n",
       "    'source_url': 'http://www.asterdata.com/news/090225_aster_IVP_funding.php',\n",
       "    'source_description': 'Aster Data Systems Extends oversubscribed Series B Funding to $17 Million',\n",
       "    'raised_amount': 17000000,\n",
       "    'raised_currency_code': 'USD',\n",
       "    'funded_year': 2009,\n",
       "    'funded_month': 2,\n",
       "    'funded_day': 25,\n",
       "    'investments': [{'company': None,\n",
       "      'financial_org': {'name': 'Jafco Ventures',\n",
       "       'permalink': 'jafco-ventures'},\n",
       "      'person': None},\n",
       "     {'company': None,\n",
       "      'financial_org': {'name': 'Sequoia Capital',\n",
       "       'permalink': 'sequoia-capital'},\n",
       "      'person': None},\n",
       "     {'company': None,\n",
       "      'financial_org': {'name': 'Cambrian Ventures',\n",
       "       'permalink': 'cambrian-ventures'},\n",
       "      'person': None},\n",
       "     {'company': None,\n",
       "      'financial_org': {'name': 'First Round Capital',\n",
       "       'permalink': 'first-round-capital'},\n",
       "      'person': None},\n",
       "     {'company': None,\n",
       "      'financial_org': {'name': 'Institutional Venture Partners',\n",
       "       'permalink': 'institutional-venture-partners'},\n",
       "      'person': None}]},\n",
       "   {'id': 18492,\n",
       "    'round_code': 'c',\n",
       "    'source_url': 'http://www.finsmes.com/2010/09/aster-data-closes-30m-series-c.html',\n",
       "    'source_description': 'Aster Data Closes $30M Series C Financing Round',\n",
       "    'raised_amount': 30000000,\n",
       "    'raised_currency_code': 'USD',\n",
       "    'funded_year': 2010,\n",
       "    'funded_month': 9,\n",
       "    'funded_day': 22,\n",
       "    'investments': [{'company': None,\n",
       "      'financial_org': {'name': 'Sequoia Capital',\n",
       "       'permalink': 'sequoia-capital'},\n",
       "      'person': None},\n",
       "     {'company': None,\n",
       "      'financial_org': {'name': 'Jafco Ventures',\n",
       "       'permalink': 'jafco-ventures'},\n",
       "      'person': None},\n",
       "     {'company': None,\n",
       "      'financial_org': {'name': 'Institutional Venture Partners',\n",
       "       'permalink': 'institutional-venture-partners'},\n",
       "      'person': None},\n",
       "     {'company': None,\n",
       "      'financial_org': {'name': 'Cambrian Ventures',\n",
       "       'permalink': 'cambrian-ventures'},\n",
       "      'person': None},\n",
       "     {'company': None,\n",
       "      'financial_org': None,\n",
       "      'person': {'first_name': 'David',\n",
       "       'last_name': 'Cheriton',\n",
       "       'permalink': 'david-cheriton'}}]}]}]"
      ]
     },
     "execution_count": 38,
     "metadata": {},
     "output_type": "execute_result"
    }
   ],
   "source": [
    "list(companies.find({\n",
    "                    \n",
    "                    'number_of_employees':{'$gt':10},\n",
    "                    '$and':[\n",
    "                            {'funding_rounds.funded_day':1},\n",
    "                            {'funding_rounds.funded_month':{'$lt':13,'$gt':8}},\n",
    "                            {'funding_rounds.raised_amount':{'$gte':1000000}}\n",
    "                           ],\n",
    "                    '$and':[\n",
    "                            {'funding_rounds.investments.financial_org.name':'Sequoia Capital'},\n",
    "                            {'funding_rounds.investments.financial_org.permalink':'sequoia-capital'}\n",
    "                            ]\n",
    "                    },\n",
    "                    {\"number_of_employees\":1, \"name\":1, \"funding_rounds\":1,'_id':0})\n",
    "                .limit(1)\n",
    "                .sort([('name',1),('number_of_employees',-1)])\n",
    "    )"
   ]
  },
  {
   "cell_type": "markdown",
   "metadata": {
    "id": "C2DX_6WyLn6v"
   },
   "source": [
    "**expected output**\n",
    "\n",
    "```\n",
    "[{'_id': ObjectId(''),\n",
    "  'funding_rounds': [{'funded_day': 1,\n",
    "    'funded_month': 12,\n",
    "    'funded_year': #,\n",
    "    'id': #,\n",
    "    'investments': [{'company': None,\n",
    "      'financial_org': {'name': 'Sequoia Capital',\n",
    "       'permalink': 'sequoia-capital'},\n",
    "      'person': {'first_name': 'name1',\n",
    "       'last_name': 'last1',\n",
    "       'permalink': 'first-last'}},...],\n",
    "    'raised_amount': 1000000\n",
    "     .....}],\n",
    "     'name': 'name1', \n",
    "     'number_of_employees': # \n",
    "```"
   ]
  },
  {
   "cell_type": "markdown",
   "metadata": {
    "id": "1My0K3-08KY5"
   },
   "source": [
    "## Problem 9 \n",
    "\n",
    "Write and execute the following as a MongoDB query.\n",
    "~~~\n",
    "SELECT tomatoes.viewer.rating, awards.wins, imdb.rating, _id, title\n",
    "FROM movies\n",
    "WHERE awards.wins > 3 \n",
    "OR (imdb.rating BETWEEN 7.5 AND 9 AND tomatoes.viewer.rating > 3.5)\n",
    "ORDER BY title \n",
    "LIMIT 1\n",
    "~~~"
   ]
  },
  {
   "cell_type": "code",
   "execution_count": 39,
   "metadata": {
    "ExecuteTime": {
     "end_time": "2021-02-11T08:32:12.878048Z",
     "start_time": "2021-02-11T08:32:12.520561Z"
    }
   },
   "outputs": [
    {
     "data": {
      "text/plain": [
       "[{'_id': ObjectId('573a13dff29313caabdb9439'),\n",
       "  'imdb': {'rating': 7.2},\n",
       "  'title': \"'71\",\n",
       "  'tomatoes': {'viewer': {'rating': 3.9}},\n",
       "  'awards': {'wins': 8}}]"
      ]
     },
     "execution_count": 39,
     "metadata": {},
     "output_type": "execute_result"
    }
   ],
   "source": [
    "list(movies.find({\n",
    "                  '$or':[\n",
    "                       {'awards.wins':{'$gt':3}},\n",
    "                       {'$and':[\n",
    "                           {'imdb.rating':{'$lte':9,'$gt':7.5}},\n",
    "                           {'tomatoes.viewer.rating':{'$gte':3.5}}\n",
    "                               ]}\n",
    "                          \n",
    "                          ]\n",
    "                      },\n",
    "                      {'tomatoes.viewer.rating':1, 'awards.wins':1, 'imdb.rating':1, '_id':1, 'title':1})\n",
    "                  \n",
    "            .limit(1)\n",
    "            .sort('title',1))\n"
   ]
  },
  {
   "cell_type": "markdown",
   "metadata": {
    "id": "y--2XSAfOjOe"
   },
   "source": [
    "**expected output**\n",
    "\n",
    "```\n",
    "[{'_id': ObjectId(''),\n",
    "  'awards': {'wins': #},\n",
    "  'imdb': {'rating': #},\n",
    "  'title': \"title1\",\n",
    "  'tomatoes': {'viewer': {'rating': #}}}]\n",
    "```"
   ]
  },
  {
   "cell_type": "markdown",
   "metadata": {
    "id": "QRj3y9Sf8KY6"
   },
   "source": [
    "## Problem 10\n",
    "\n",
    "Write and execute the following as a MongoDB query.\n",
    "\n",
    "~~~\n",
    "SELECT _id, genres, runtime, type\n",
    "FROM movies\n",
    "WHERE (genres=\"Short\" OR type=\"series\") AND runtime < 30\n",
    "ORDER BY runtime DESC \n",
    "LIMIT 1\n",
    "~~~"
   ]
  },
  {
   "cell_type": "code",
   "execution_count": 37,
   "metadata": {
    "ExecuteTime": {
     "end_time": "2021-02-11T08:09:52.607568Z",
     "start_time": "2021-02-11T08:09:52.230722Z"
    }
   },
   "outputs": [
    {
     "data": {
      "text/plain": [
       "[{'_id': ObjectId('573a1392f29313caabcd9bf8'),\n",
       "  'genres': ['Comedy', 'Short'],\n",
       "  'runtime': 29,\n",
       "  'type': 'movie'}]"
      ]
     },
     "execution_count": 37,
     "metadata": {},
     "output_type": "execute_result"
    }
   ],
   "source": [
    "list(movies.find({\n",
    "                '$and':[\n",
    "                    {'$or':[\n",
    "                        {'genres':'Short'},\n",
    "                        {'type':'series'}\n",
    "                    ]},\n",
    "                    {'runtime':{'$lt':30}}\n",
    "                ]},\n",
    "                {'_id':1, 'genres':1, 'runtime':1,'type':1})\n",
    "            .sort('runtime',-1)\n",
    "            .limit(1))"
   ]
  },
  {
   "cell_type": "markdown",
   "metadata": {
    "id": "81zlw72jPXrf"
   },
   "source": [
    "**expected output**\n",
    "\n",
    "```\n",
    "[{'_id': ObjectId(''),\n",
    "  'genres': ['genre1', 'genre2'],\n",
    "  'runtime': 20,\n",
    "  'type': 'x'}]\n",
    "```"
   ]
  },
  {
   "cell_type": "code",
   "execution_count": null,
   "metadata": {
    "id": "wUtwRYYf8KY8"
   },
   "outputs": [],
   "source": []
  },
  {
   "cell_type": "code",
   "execution_count": null,
   "metadata": {
    "id": "OMreskIkTbmp"
   },
   "outputs": [],
   "source": []
  }
 ],
 "metadata": {
  "colab": {
   "collapsed_sections": [
    "c-NRukks8KYx",
    "tz0u3VUu8KYy",
    "FwEE169k8KY0",
    "dmQFk5Lt8KY1",
    "QJD3JGA68KY1",
    "9mz7jOHj8KY2",
    "kOkNER298KY3",
    "1My0K3-08KY5"
   ],
   "name": "Assignment #3 w/Sample Output.ipynb",
   "provenance": []
  },
  "kernelspec": {
   "display_name": "Python 3",
   "language": "python",
   "name": "python3"
  },
  "language_info": {
   "codemirror_mode": {
    "name": "ipython",
    "version": 3
   },
   "file_extension": ".py",
   "mimetype": "text/x-python",
   "name": "python",
   "nbconvert_exporter": "python",
   "pygments_lexer": "ipython3",
   "version": "3.8.3"
  },
  "toc": {
   "base_numbering": 1,
   "nav_menu": {},
   "number_sections": true,
   "sideBar": true,
   "skip_h1_title": false,
   "title_cell": "Table of Contents",
   "title_sidebar": "Contents",
   "toc_cell": false,
   "toc_position": {},
   "toc_section_display": true,
   "toc_window_display": false
  },
  "varInspector": {
   "cols": {
    "lenName": 16,
    "lenType": 16,
    "lenVar": 40
   },
   "kernels_config": {
    "python": {
     "delete_cmd_postfix": "",
     "delete_cmd_prefix": "del ",
     "library": "var_list.py",
     "varRefreshCmd": "print(var_dic_list())"
    },
    "r": {
     "delete_cmd_postfix": ") ",
     "delete_cmd_prefix": "rm(",
     "library": "var_list.r",
     "varRefreshCmd": "cat(var_dic_list()) "
    }
   },
   "types_to_exclude": [
    "module",
    "function",
    "builtin_function_or_method",
    "instance",
    "_Feature"
   ],
   "window_display": false
  }
 },
 "nbformat": 4,
 "nbformat_minor": 1
}
